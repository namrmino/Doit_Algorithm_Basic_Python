{
 "cells": [
  {
   "cell_type": "markdown",
   "metadata": {},
   "source": [
    "@ 실습 1-1"
   ]
  },
  {
   "cell_type": "code",
   "execution_count": 1,
   "metadata": {},
   "outputs": [
    {
     "name": "stdout",
     "output_type": "stream",
     "text": [
      "세 정수의 최댓값을 구합니다.\n"
     ]
    },
    {
     "name": "stdin",
     "output_type": "stream",
     "text": [
      "정수 a의 값을 입력하세요.:  1\n",
      "정수 b의 값을 입력하세요.:  2\n",
      "정수 c의 값을 입력하세요.:  3\n"
     ]
    },
    {
     "name": "stdout",
     "output_type": "stream",
     "text": [
      "최댓값은 3입니다.\n"
     ]
    }
   ],
   "source": [
    "# 세 정수를 입력받아 최댓값 구하기\n",
    "\n",
    "print('세 정수의 최댓값을 구합니다.')\n",
    "a = int(input('정수 a의 값을 입력하세요.: '))\n",
    "b = int(input('정수 b의 값을 입력하세요.: '))\n",
    "c = int(input('정수 c의 값을 입력하세요.: '))\n",
    "\n",
    "maximum = a\n",
    "if b > maximum:\n",
    "    maximum = b\n",
    "if c > maximum:\n",
    "    maximum = c\n",
    "    \n",
    "print(f'최댓값은 {maximum}입니다.')"
   ]
  },
  {
   "cell_type": "markdown",
   "metadata": {},
   "source": [
    "@ 실습 1C-1"
   ]
  },
  {
   "cell_type": "code",
   "execution_count": 1,
   "metadata": {},
   "outputs": [
    {
     "name": "stdout",
     "output_type": "stream",
     "text": [
      "이름을 입력하세요. : "
     ]
    },
    {
     "name": "stdin",
     "output_type": "stream",
     "text": [
      " 남정재\n"
     ]
    },
    {
     "name": "stdout",
     "output_type": "stream",
     "text": [
      "안녕하세요? 남정재님.\n"
     ]
    }
   ],
   "source": [
    "# 이름을 입력받아 인사하기\n",
    "print('이름을 입력하세요. : ', end='')\n",
    "name = input()\n",
    "print(f'안녕하세요? {name}님.')"
   ]
  },
  {
   "cell_type": "code",
   "execution_count": 2,
   "metadata": {},
   "outputs": [
    {
     "name": "stdin",
     "output_type": "stream",
     "text": [
      "이름을 입력하세요. :  남정재\n"
     ]
    },
    {
     "name": "stdout",
     "output_type": "stream",
     "text": [
      "안녕하세요? 남정재님.\n"
     ]
    }
   ],
   "source": [
    "# 이름을 입력받아 인사하기\n",
    "name = input('이름을 입력하세요. : ')\n",
    "print(f'안녕하세요? {name}님.')"
   ]
  },
  {
   "cell_type": "markdown",
   "metadata": {},
   "source": [
    "@ 실습 1-2"
   ]
  },
  {
   "cell_type": "code",
   "execution_count": 3,
   "metadata": {},
   "outputs": [],
   "source": [
    "# 세 정수의 최댓값 구하기\n",
    "\n",
    "def max3(a,b,c):\n",
    "    \"\"\"a,b,c의 최댓값을 구하여 반환\"\"\"\n",
    "    maximum = a\n",
    "    if b > maximum:\n",
    "        maximum=b\n",
    "    if c > maximum:\n",
    "        maximum=c\n",
    "    return maximum # 최댓값 반환"
   ]
  },
  {
   "cell_type": "markdown",
   "metadata": {},
   "source": [
    "@ 실습 1C-2"
   ]
  },
  {
   "cell_type": "code",
   "execution_count": 4,
   "metadata": {},
   "outputs": [
    {
     "name": "stdout",
     "output_type": "stream",
     "text": [
      "세 정수의 중앙값을 구합니다.\n"
     ]
    },
    {
     "name": "stdin",
     "output_type": "stream",
     "text": [
      "정수 a의 값을 입력하세요. :  1\n",
      "정수 b의 값을 입력하세요. :  2\n",
      "정수 c의 값을 입력하세요. :  3\n"
     ]
    },
    {
     "name": "stdout",
     "output_type": "stream",
     "text": [
      "중앙값은 2입니다.\n"
     ]
    }
   ],
   "source": [
    "# 세 정수를 입력받아 중앙값 구하기 1\n",
    "\n",
    "def med3(a,b,c):\n",
    "    \"\"\"a,b,c의 중앙값을 구하여 반환\"\"\"\n",
    "    if a>=b:\n",
    "        if b>=c:\n",
    "            return b\n",
    "        elif a<=c:\n",
    "            return a\n",
    "        else:\n",
    "            return c\n",
    "    elif a>c:\n",
    "        return a\n",
    "    elif b>c:\n",
    "        return c\n",
    "    else:\n",
    "        return b\n",
    "    \n",
    "print('세 정수의 중앙값을 구합니다.')\n",
    "a = int(input('정수 a의 값을 입력하세요. : '))\n",
    "b = int(input('정수 b의 값을 입력하세요. : '))\n",
    "c = int(input('정수 c의 값을 입력하세요. : '))\n",
    "\n",
    "print(f'중앙값은 {med3(a,b,c)}입니다.')"
   ]
  },
  {
   "cell_type": "code",
   "execution_count": 5,
   "metadata": {},
   "outputs": [],
   "source": [
    "# 세 정수를 입력받아 중앙값 구하기 2\n",
    "\n",
    "def med3(a,b,c):\n",
    "    \"\"\"a,b,c의 중앙값을 구하여 반환(다른 방법)\"\"\"\n",
    "    if (b>=a and c<=a) or (b<=a and c>=a):\n",
    "        return a\n",
    "    elif (a>b and c<b) or (a<b and c>b):\n",
    "        return b\n",
    "    return c"
   ]
  },
  {
   "cell_type": "markdown",
   "metadata": {},
   "source": [
    "@ 실습 1-3"
   ]
  },
  {
   "cell_type": "code",
   "execution_count": 9,
   "metadata": {},
   "outputs": [
    {
     "name": "stdin",
     "output_type": "stream",
     "text": [
      "정수를 입력하세요. :  -6\n"
     ]
    },
    {
     "name": "stdout",
     "output_type": "stream",
     "text": [
      "이 수는 음수입니다.\n"
     ]
    }
   ],
   "source": [
    "# 입력받은 정수의 부호(양수, 음수, 0) 출력하기\n",
    "\n",
    "n = int(input('정수를 입력하세요. : '))\n",
    "\n",
    "if n>0:\n",
    "    print('이 수는 양수입니다.')\n",
    "elif n<0:\n",
    "    print('이 수는 음수입니다.')\n",
    "else:\n",
    "    print('이 수는 0입니다.')"
   ]
  },
  {
   "cell_type": "markdown",
   "metadata": {},
   "source": [
    "@ 실습 1-4"
   ]
  },
  {
   "cell_type": "code",
   "execution_count": 13,
   "metadata": {},
   "outputs": [
    {
     "name": "stdin",
     "output_type": "stream",
     "text": [
      "정수를 입력하세요. :  5\n"
     ]
    },
    {
     "name": "stdout",
     "output_type": "stream",
     "text": [
      "C\n"
     ]
    }
   ],
   "source": [
    "# 3개로 분기하는 조건문\n",
    "\n",
    "n = int(input('정수를 입력하세요. : '))\n",
    "\n",
    "if n == 1:\n",
    "    print('A')\n",
    "elif n == 2:\n",
    "    print('B')\n",
    "else:\n",
    "    print('C')"
   ]
  },
  {
   "cell_type": "markdown",
   "metadata": {},
   "source": [
    "@ 실습 1-5"
   ]
  },
  {
   "cell_type": "code",
   "execution_count": 18,
   "metadata": {},
   "outputs": [
    {
     "name": "stdin",
     "output_type": "stream",
     "text": [
      "정수를 입력하세요. :  5\n"
     ]
    }
   ],
   "source": [
    "# 4개로 분기하는 조건문\n",
    "\n",
    "n = int(input('정수를 입력하세요. : '))\n",
    "\n",
    "if n == 1:\n",
    "    print('A')\n",
    "elif n == 2:\n",
    "    print('B')\n",
    "elif n == 3:\n",
    "    print('C')"
   ]
  },
  {
   "cell_type": "markdown",
   "metadata": {},
   "source": [
    "@ 실습 1-6"
   ]
  },
  {
   "cell_type": "code",
   "execution_count": 20,
   "metadata": {},
   "outputs": [
    {
     "name": "stdin",
     "output_type": "stream",
     "text": [
      "정수를 입력하세요. -4\n"
     ]
    }
   ],
   "source": [
    "# 실습 1-5의 원래 모습\n",
    "\n",
    "n = int(input('정수를 입력하세요.'))\n",
    "\n",
    "if n == 1:\n",
    "    print('A')\n",
    "elif n == 2:\n",
    "    print('B')\n",
    "elif n == 3:\n",
    "    print('C')\n",
    "else:\n",
    "    pass"
   ]
  },
  {
   "cell_type": "markdown",
   "metadata": {},
   "source": [
    "@ 실습 1-7"
   ]
  },
  {
   "cell_type": "code",
   "execution_count": 4,
   "metadata": {},
   "outputs": [
    {
     "name": "stdout",
     "output_type": "stream",
     "text": [
      "1부터 n까지 정수의 합을 구합니다.\n"
     ]
    },
    {
     "name": "stdin",
     "output_type": "stream",
     "text": [
      "n값을 입력하세요. :  100\n"
     ]
    },
    {
     "name": "stdout",
     "output_type": "stream",
     "text": [
      "1부터 100까지 정수의 합은 5050입니다.\n",
      "i값은 101입니다.\n"
     ]
    }
   ],
   "source": [
    "# 1부터 n까지 정수의 합 구하기 (while문)\n",
    "\n",
    "print('1부터 n까지 정수의 합을 구합니다.')\n",
    "n = int(input('n값을 입력하세요. : '))\n",
    "\n",
    "sum = 0\n",
    "i = 1\n",
    "\n",
    "while i <= n: # i가 n보다 작거나 같은 동안 반복\n",
    "    sum += i # sum에 i를 더함\n",
    "    i += 1 # i에 1을 더함\n",
    "    \n",
    "print(f'1부터 {n}까지 정수의 합은 {sum}입니다.')\n",
    "print(f'i값은 {i}입니다.')"
   ]
  },
  {
   "cell_type": "markdown",
   "metadata": {},
   "source": [
    "@ 실습 1-8"
   ]
  },
  {
   "cell_type": "code",
   "execution_count": 7,
   "metadata": {},
   "outputs": [
    {
     "name": "stdout",
     "output_type": "stream",
     "text": [
      "1부터 n까지 정수의 합을 구합니다.\n"
     ]
    },
    {
     "name": "stdin",
     "output_type": "stream",
     "text": [
      "n값을 입력하세요. :  100\n"
     ]
    },
    {
     "name": "stdout",
     "output_type": "stream",
     "text": [
      "1부터 100까지 정수의 합은 5050입니다.\n",
      "i값은 100입니다.\n"
     ]
    }
   ],
   "source": [
    "# 1부터 n까지 정수의 합 구하기 (for문)\n",
    "\n",
    "print('1부터 n까지 정수의 합을 구합니다.')\n",
    "n = int(input('n값을 입력하세요. : '))\n",
    "\n",
    "sum=0\n",
    "for i in range(1, n+1):\n",
    "    sum += i # sum에 i를 더함\n",
    "    \n",
    "print(f'1부터 {n}까지 정수의 합은 {sum}입니다.')\n",
    "print(f'i값은 {i}입니다.')"
   ]
  },
  {
   "cell_type": "code",
   "execution_count": 8,
   "metadata": {},
   "outputs": [],
   "source": [
    "# 가우스 덧셈\n",
    "sum = n * (n+1) // 2"
   ]
  },
  {
   "cell_type": "markdown",
   "metadata": {},
   "source": [
    "@ 실습 1-9"
   ]
  },
  {
   "cell_type": "code",
   "execution_count": 10,
   "metadata": {},
   "outputs": [
    {
     "name": "stdout",
     "output_type": "stream",
     "text": [
      "a부터 b까지 정수의 합을 구합니다.\n"
     ]
    },
    {
     "name": "stdin",
     "output_type": "stream",
     "text": [
      "정수 a를 입력하세요. :  8\n",
      "정수 b를 입력하세요. :  3\n"
     ]
    },
    {
     "name": "stdout",
     "output_type": "stream",
     "text": [
      "3부터 8까지 정수의 합은 33입니다.\n"
     ]
    }
   ],
   "source": [
    "# a부터 b까지 정수의 합 구하기 (for문)\n",
    "\n",
    "print('a부터 b까지 정수의 합을 구합니다.')\n",
    "a = int(input('정수 a를 입력하세요. : '))\n",
    "b = int(input('정수 b를 입력하세요. : '))\n",
    "\n",
    "if a>b:\n",
    "    a,b = b,a # a와 b를 오름차순으로 정렬\n",
    "    \n",
    "sum = 0\n",
    "for i in range(a, b+1):\n",
    "    sum += i # sum에 i를 더함\n",
    "    \n",
    "print(f'{a}부터 {b}까지 정수의 합은 {sum}입니다.')"
   ]
  },
  {
   "cell_type": "markdown",
   "metadata": {},
   "source": [
    "@ 실습 1-10"
   ]
  },
  {
   "cell_type": "code",
   "execution_count": 12,
   "metadata": {},
   "outputs": [
    {
     "name": "stdout",
     "output_type": "stream",
     "text": [
      "a부터 b까지 정수의 합을 구합니다.\n"
     ]
    },
    {
     "name": "stdin",
     "output_type": "stream",
     "text": [
      "정수 a를 입력하세요 : 4\n",
      "정수 b를 입력하세요 : 3\n"
     ]
    },
    {
     "name": "stdout",
     "output_type": "stream",
     "text": [
      "3+4=7\n"
     ]
    }
   ],
   "source": [
    "# a부터 b까지 정수의 합 구하기\n",
    "\n",
    "print('a부터 b까지 정수의 합을 구합니다.')\n",
    "a = int(input('정수 a를 입력하세요 :'))\n",
    "b = int(input('정수 b를 입력하세요 :'))\n",
    "\n",
    "if a>b:\n",
    "    a,b = b,a\n",
    "    \n",
    "sum = 0\n",
    "for i in range(a, b+1):\n",
    "    if i < b: # i가 b보다 작으면 합을 구하는 과정 출력\n",
    "        print(f'{i}+', end='')\n",
    "    else: # i가 b보다 크거나 같으면 최종값 출력을 위해 i=을 출력\n",
    "        print(f'{i}=', end='')\n",
    "    sum += i # sum에 i를 더함\n",
    "    \n",
    "print(sum)"
   ]
  },
  {
   "cell_type": "markdown",
   "metadata": {},
   "source": [
    "@ 실습 1-11"
   ]
  },
  {
   "cell_type": "code",
   "execution_count": 13,
   "metadata": {},
   "outputs": [
    {
     "name": "stdout",
     "output_type": "stream",
     "text": [
      "a부터 b까지 정수의 합을 구합니다.\n"
     ]
    },
    {
     "name": "stdin",
     "output_type": "stream",
     "text": [
      "정수 a를 입력하세요. :  2\n",
      "정수 b를 입력하세요. :  6\n"
     ]
    },
    {
     "name": "stdout",
     "output_type": "stream",
     "text": [
      "2 + 3 + 4 + 5 + 6 = 20\n"
     ]
    }
   ],
   "source": [
    "# a부터 b까지 정수의 합 구하기 2\n",
    "\n",
    "print('a부터 b까지 정수의 합을 구합니다.')\n",
    "a = int(input('정수 a를 입력하세요. : '))\n",
    "b = int(input('정수 b를 입력하세요. : '))\n",
    "\n",
    "if a > b:\n",
    "    a,b = b,a # 오름차순\n",
    "    \n",
    "sum = 0\n",
    "for i in range(a,b):\n",
    "    print(f'{i} + ', end='')\n",
    "    sum += i # sum에 i를 더함\n",
    "    \n",
    "print(f'{b} = ', end='')\n",
    "sum += b # sum에 b를 더함\n",
    "\n",
    "print(sum)"
   ]
  },
  {
   "cell_type": "markdown",
   "metadata": {},
   "source": [
    "@ 실습 1-12"
   ]
  },
  {
   "cell_type": "code",
   "execution_count": 16,
   "metadata": {},
   "outputs": [
    {
     "name": "stdout",
     "output_type": "stream",
     "text": [
      "+와 -를 번갈아 출력합니다.\n"
     ]
    },
    {
     "name": "stdin",
     "output_type": "stream",
     "text": [
      "몇 개를 출력할까요?:  12\n"
     ]
    },
    {
     "name": "stdout",
     "output_type": "stream",
     "text": [
      "+-+-+-+-+-+-\n"
     ]
    }
   ],
   "source": [
    "# +와 -를 번갈아 출력하기\n",
    "\n",
    "print('+와 -를 번갈아 출력합니다.')\n",
    "n=int(input('몇 개를 출력할까요?: '))\n",
    "\n",
    "for i in range(n):\n",
    "    if i%2:\n",
    "        print('-', end='') # 홀수인 경우 - 출력\n",
    "    else:\n",
    "        print('+', end='') # 짝수인 경우 + 출력\n",
    "\n",
    "print()"
   ]
  },
  {
   "cell_type": "code",
   "execution_count": 1,
   "metadata": {},
   "outputs": [
    {
     "name": "stdout",
     "output_type": "stream",
     "text": [
      "+와 -를 번갈아 출력합니다.\n"
     ]
    },
    {
     "name": "stdin",
     "output_type": "stream",
     "text": [
      "몇 개를 출력할까요?:  3\n"
     ]
    },
    {
     "name": "stdout",
     "output_type": "stream",
     "text": [
      "+-+\n"
     ]
    }
   ],
   "source": [
    "# +와 -를 번갈아 출력하기 (for문 수정)\n",
    "\n",
    "print('+와 -를 번갈아 출력합니다.')\n",
    "n=int(input('몇 개를 출력할까요?: '))\n",
    "\n",
    "for i in range(1, n+1):\n",
    "    if i%2:\n",
    "        print('+', end='') # 홀수\n",
    "    else:\n",
    "        print('-', end='') # 짝수\n",
    "\n",
    "print()"
   ]
  },
  {
   "cell_type": "markdown",
   "metadata": {},
   "source": [
    "@ 실습 1-13"
   ]
  },
  {
   "cell_type": "code",
   "execution_count": 2,
   "metadata": {},
   "outputs": [
    {
     "name": "stdout",
     "output_type": "stream",
     "text": [
      "+와 -를 번갈아 출력합니다.\n"
     ]
    },
    {
     "name": "stdin",
     "output_type": "stream",
     "text": [
      "몇 개를 출력할까요? :  13\n"
     ]
    },
    {
     "name": "stdout",
     "output_type": "stream",
     "text": [
      "+-+-+-+-+-+-+\n"
     ]
    }
   ],
   "source": [
    "# +와 -를 번갈아 출력하기\n",
    "\n",
    "print('+와 -를 번갈아 출력합니다.')\n",
    "n = int(input('몇 개를 출력할까요? : '))\n",
    "\n",
    "for _ in range(n // 2):\n",
    "    print('+-', end='') # +-를 n // 2 개의 출력\n",
    "    \n",
    "if n % 2:\n",
    "    print('+', end='') # n이 홀수일 때만 +를 출력\n",
    "    \n",
    "print()"
   ]
  },
  {
   "cell_type": "markdown",
   "metadata": {},
   "source": [
    "@ 실습 1-14"
   ]
  },
  {
   "cell_type": "code",
   "execution_count": 1,
   "metadata": {},
   "outputs": [
    {
     "name": "stdout",
     "output_type": "stream",
     "text": [
      "*를 출력합니다.\n"
     ]
    },
    {
     "name": "stdin",
     "output_type": "stream",
     "text": [
      "몇 개를 출력할까요? :  13\n",
      "몇 개마다 줄바꿈할까요? :  5\n"
     ]
    },
    {
     "name": "stdout",
     "output_type": "stream",
     "text": [
      "*****\n",
      "*****\n",
      "***\n"
     ]
    }
   ],
   "source": [
    "# *를 n개 출력하되 w개마다 줄바꿈하기\n",
    "\n",
    "print('*를 출력합니다.')\n",
    "n = int(input('몇 개를 출력할까요? : '))\n",
    "w = int(input('몇 개마다 줄바꿈할까요? : '))\n",
    "\n",
    "for i in range(n): # n번 반복\n",
    "    print('*', end='')\n",
    "    if i % w == w-1: # n번 판단\n",
    "        print() # 줄바꿈\n",
    "        \n",
    "if n % w: # 1번 판단\n",
    "    print() # 줄바꿈"
   ]
  },
  {
   "cell_type": "markdown",
   "metadata": {},
   "source": [
    "@ 실습 1-15"
   ]
  },
  {
   "cell_type": "code",
   "execution_count": 2,
   "metadata": {},
   "outputs": [
    {
     "name": "stdout",
     "output_type": "stream",
     "text": [
      "*를 출력합니다.\n"
     ]
    },
    {
     "name": "stdin",
     "output_type": "stream",
     "text": [
      "몇 개를 출력할까요? :  13\n",
      "몇 개마다 줄바꿈할까요? :  5\n"
     ]
    },
    {
     "name": "stdout",
     "output_type": "stream",
     "text": [
      "*****\n",
      "*****\n",
      "***\n"
     ]
    }
   ],
   "source": [
    "# *를 n개 출력하되 w개마다 줄바꿈하기\n",
    "\n",
    "print('*를 출력합니다.')\n",
    "n = int(input('몇 개를 출력할까요? : '))\n",
    "w = int(input('몇 개마다 줄바꿈할까요? : '))\n",
    "\n",
    "for _ in range(n//w): # n//w번 반복\n",
    "    print('*'*w)\n",
    "\n",
    "rest = n % w\n",
    "if rest: # if 문 판단 1번\n",
    "    print('*'*rest)"
   ]
  },
  {
   "cell_type": "code",
   "execution_count": null,
   "metadata": {},
   "outputs": [],
   "source": []
  }
 ],
 "metadata": {
  "kernelspec": {
   "display_name": "Python 3",
   "language": "python",
   "name": "python3"
  },
  "language_info": {
   "codemirror_mode": {
    "name": "ipython",
    "version": 3
   },
   "file_extension": ".py",
   "mimetype": "text/x-python",
   "name": "python",
   "nbconvert_exporter": "python",
   "pygments_lexer": "ipython3",
   "version": "3.6.11"
  }
 },
 "nbformat": 4,
 "nbformat_minor": 4
}
